{
  "nbformat": 4,
  "nbformat_minor": 0,
  "metadata": {
    "colab": {
      "provenance": [],
      "authorship_tag": "ABX9TyOxGH86f/xdQ09SNtIiMqJC",
      "include_colab_link": true
    },
    "kernelspec": {
      "name": "python3",
      "display_name": "Python 3"
    },
    "language_info": {
      "name": "python"
    }
  },
  "cells": [
    {
      "cell_type": "markdown",
      "metadata": {
        "id": "view-in-github",
        "colab_type": "text"
      },
      "source": [
        "<a href=\"https://colab.research.google.com/github/ankit-singh26/NaturalLanguageProcessing/blob/main/TF_IDF.ipynb\" target=\"_parent\"><img src=\"https://colab.research.google.com/assets/colab-badge.svg\" alt=\"Open In Colab\"/></a>"
      ]
    },
    {
      "cell_type": "code",
      "execution_count": 2,
      "metadata": {
        "id": "mmKmZvM8VO_u"
      },
      "outputs": [],
      "source": [
        "from sklearn.feature_extraction.text import TfidfVectorizer"
      ]
    },
    {
      "cell_type": "code",
      "source": [
        "# Sample corpus\n",
        "documents = [\n",
        "    \"Abdul Kalam was the President of India.\",\n",
        "    \"He was a scientist and worked at ISRO.\",\n",
        "    \"India is proud of Kalam's contribution.\"\n",
        "]"
      ],
      "metadata": {
        "id": "Tzv587ykVhza"
      },
      "execution_count": 3,
      "outputs": []
    },
    {
      "cell_type": "code",
      "source": [
        "# Initialize vectorizer\n",
        "vectorizer = TfidfVectorizer()"
      ],
      "metadata": {
        "id": "GhIHIY2AVh11"
      },
      "execution_count": 4,
      "outputs": []
    },
    {
      "cell_type": "code",
      "source": [
        "# Transform documents into TF-IDF matrix\n",
        "tfidf_matrix = vectorizer.fit_transform(documents)"
      ],
      "metadata": {
        "id": "HijUwnpoVh3-"
      },
      "execution_count": 5,
      "outputs": []
    },
    {
      "cell_type": "code",
      "source": [
        "words = vectorizer.get_feature_names_out()"
      ],
      "metadata": {
        "id": "w4W4wKkJVh6Y"
      },
      "execution_count": 6,
      "outputs": []
    },
    {
      "cell_type": "code",
      "source": [
        "# Convert to readable format\n",
        "import pandas as pd\n",
        "df = pd.DataFrame(tfidf_matrix.toarray(), columns=words)"
      ],
      "metadata": {
        "id": "9u4TOoZgVh9A"
      },
      "execution_count": 7,
      "outputs": []
    },
    {
      "cell_type": "code",
      "source": [
        "print(df)"
      ],
      "metadata": {
        "colab": {
          "base_uri": "https://localhost:8080/"
        },
        "id": "f_mFpQE3Vh_N",
        "outputId": "a1cbbf6f-6bfe-4fc3-e052-5763b0684593"
      },
      "execution_count": 8,
      "outputs": [
        {
          "output_type": "stream",
          "name": "stdout",
          "text": [
            "      abdul       and        at  contribution        he     india        is  \\\n",
            "0  0.433816  0.000000  0.000000      0.000000  0.000000  0.329928  0.000000   \n",
            "1  0.000000  0.389888  0.389888      0.000000  0.389888  0.000000  0.000000   \n",
            "2  0.000000  0.000000  0.000000      0.459548  0.000000  0.349498  0.459548   \n",
            "\n",
            "       isro     kalam        of  president     proud  scientist       the  \\\n",
            "0  0.000000  0.329928  0.329928   0.433816  0.000000   0.000000  0.433816   \n",
            "1  0.389888  0.000000  0.000000   0.000000  0.000000   0.389888  0.000000   \n",
            "2  0.000000  0.349498  0.349498   0.000000  0.459548   0.000000  0.000000   \n",
            "\n",
            "        was    worked  \n",
            "0  0.329928  0.000000  \n",
            "1  0.296520  0.389888  \n",
            "2  0.000000  0.000000  \n"
          ]
        }
      ]
    },
    {
      "cell_type": "code",
      "source": [],
      "metadata": {
        "id": "13fjeYsXViBr"
      },
      "execution_count": null,
      "outputs": []
    },
    {
      "cell_type": "code",
      "source": [],
      "metadata": {
        "id": "zMhrECtuViDp"
      },
      "execution_count": null,
      "outputs": []
    },
    {
      "cell_type": "code",
      "source": [],
      "metadata": {
        "id": "SGh37HU9ViHD"
      },
      "execution_count": null,
      "outputs": []
    }
  ]
}