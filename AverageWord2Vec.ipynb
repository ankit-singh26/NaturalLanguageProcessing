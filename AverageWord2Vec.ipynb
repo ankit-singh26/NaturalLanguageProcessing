{
  "nbformat": 4,
  "nbformat_minor": 0,
  "metadata": {
    "colab": {
      "provenance": [],
      "authorship_tag": "ABX9TyMkziEDIEH7ycL8dsHomFd6",
      "include_colab_link": true
    },
    "kernelspec": {
      "name": "python3",
      "display_name": "Python 3"
    },
    "language_info": {
      "name": "python"
    }
  },
  "cells": [
    {
      "cell_type": "markdown",
      "metadata": {
        "id": "view-in-github",
        "colab_type": "text"
      },
      "source": [
        "<a href=\"https://colab.research.google.com/github/ankit-singh26/NaturalLanguageProcessing/blob/main/AverageWord2Vec.ipynb\" target=\"_parent\"><img src=\"https://colab.research.google.com/assets/colab-badge.svg\" alt=\"Open In Colab\"/></a>"
      ]
    },
    {
      "cell_type": "code",
      "execution_count": 1,
      "metadata": {
        "id": "TQSB1pbVkcJf"
      },
      "outputs": [],
      "source": [
        "from gensim.models import Word2Vec\n",
        "import numpy as np"
      ]
    },
    {
      "cell_type": "code",
      "source": [
        "# Sample data\n",
        "sentences = [\n",
        "    [\"abdul\", \"kalam\", \"was\", \"a\", \"scientist\"],\n",
        "    [\"he\", \"inspired\", \"many\", \"students\"],\n",
        "    [\"technology\", \"and\", \"innovation\", \"drive\", \"growth\"]\n",
        "]"
      ],
      "metadata": {
        "id": "7JrgycMTmM4x"
      },
      "execution_count": 2,
      "outputs": []
    },
    {
      "cell_type": "code",
      "source": [
        "# Train Word2Vec (Skip-Gram)\n",
        "model = Word2Vec(sentences, vector_size=100, window=3, min_count=1, sg=1)"
      ],
      "metadata": {
        "id": "XZamXZzDmM8O"
      },
      "execution_count": 3,
      "outputs": []
    },
    {
      "cell_type": "code",
      "source": [
        "def average_word2vec(sentence, model):\n",
        "  # Filters out words not in vocabulary\n",
        "  words = [word for word in sentence if word in model.wv]\n",
        "  if not words:\n",
        "    return np.zeros(model.vector_size)\n",
        "\n",
        "  # Average their vectors\n",
        "  return np.mean([model.wv[word] for word in words], axis = 0)"
      ],
      "metadata": {
        "id": "dQHuepJFmV5h"
      },
      "execution_count": 4,
      "outputs": []
    },
    {
      "cell_type": "code",
      "source": [
        "test_sentence = [\"abdul\", \"kalam\", \"inspired\", \"many\", \"students\"]\n",
        "test_vector = average_word2vec(test_sentence, model)"
      ],
      "metadata": {
        "id": "Ms_ofdZlmV9F"
      },
      "execution_count": 5,
      "outputs": []
    },
    {
      "cell_type": "code",
      "source": [
        "print(\"Sentence vector shape:\", test_vector.shape)\n",
        "print(\"Sample of vector:\", test_vector[:10])"
      ],
      "metadata": {
        "colab": {
          "base_uri": "https://localhost:8080/"
        },
        "id": "ecR8LhjHmWN5",
        "outputId": "e392256e-4c82-4e80-e6df-ed5516344645"
      },
      "execution_count": 8,
      "outputs": [
        {
          "output_type": "stream",
          "name": "stdout",
          "text": [
            "Sentence vector shape: (100,)\n",
            "Sample of vector: [-7.7428541e-04 -4.9510068e-04  1.7439781e-03 -2.4006600e-03\n",
            " -2.8913880e-03  9.5609183e-05  1.0775814e-03  1.9619745e-04\n",
            " -1.9944953e-03 -4.3293047e-03]\n"
          ]
        }
      ]
    }
  ]
}