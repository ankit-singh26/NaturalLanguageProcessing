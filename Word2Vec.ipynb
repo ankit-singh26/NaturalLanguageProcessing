{
  "nbformat": 4,
  "nbformat_minor": 0,
  "metadata": {
    "colab": {
      "provenance": [],
      "authorship_tag": "ABX9TyPynUlP093DBg2HpHUUE4oU",
      "include_colab_link": true
    },
    "kernelspec": {
      "name": "python3",
      "display_name": "Python 3"
    },
    "language_info": {
      "name": "python"
    }
  },
  "cells": [
    {
      "cell_type": "markdown",
      "metadata": {
        "id": "view-in-github",
        "colab_type": "text"
      },
      "source": [
        "<a href=\"https://colab.research.google.com/github/ankit-singh26/NaturalLanguageProcessing/blob/main/Word2Vec.ipynb\" target=\"_parent\"><img src=\"https://colab.research.google.com/assets/colab-badge.svg\" alt=\"Open In Colab\"/></a>"
      ]
    },
    {
      "cell_type": "code",
      "execution_count": 1,
      "metadata": {
        "id": "VQWK01bHg2xr"
      },
      "outputs": [],
      "source": [
        "from gensim.models import Word2Vec"
      ]
    },
    {
      "cell_type": "code",
      "source": [
        "# Sample corpus\n",
        "sentences = [\n",
        "    [\"abdul\", \"kalam\", \"was\", \"a\", \"scientist\"],\n",
        "    [\"he\", \"served\", \"as\", \"president\", \"of\", \"india\"],\n",
        "    [\"kalam\", \"inspired\", \"millions\", \"with\", \"his\", \"vision\"],\n",
        "    [\"science\", \"and\", \"technology\", \"drive\", \"the\", \"nation\"],\n",
        "]"
      ],
      "metadata": {
        "id": "sZ-Le6mfg37q"
      },
      "execution_count": 2,
      "outputs": []
    },
    {
      "cell_type": "code",
      "source": [
        "# Train Word2Vec model\n",
        "model = Word2Vec(sentences, vector_size=50, window=2, min_count=1, sg=1)"
      ],
      "metadata": {
        "id": "yG1iw0cog39u"
      },
      "execution_count": 3,
      "outputs": []
    },
    {
      "cell_type": "code",
      "source": [
        "# Get vector for a word\n",
        "print(\"Vector for 'kalam':\\n\", model.wv[\"kalam\"])"
      ],
      "metadata": {
        "colab": {
          "base_uri": "https://localhost:8080/"
        },
        "id": "Ekme8Zckg4AL",
        "outputId": "04eeaeaf-3eb0-44b9-fb91-4b930ca5cd3b"
      },
      "execution_count": 4,
      "outputs": [
        {
          "output_type": "stream",
          "name": "stdout",
          "text": [
            "Vector for 'kalam':\n",
            " [-1.0724545e-03  4.7286271e-04  1.0206699e-02  1.8018546e-02\n",
            " -1.8605899e-02 -1.4233618e-02  1.2917745e-02  1.7945977e-02\n",
            " -1.0030856e-02 -7.5267432e-03  1.4761009e-02 -3.0669428e-03\n",
            " -9.0732267e-03  1.3108104e-02 -9.7203208e-03 -3.6320353e-03\n",
            "  5.7531595e-03  1.9837476e-03 -1.6570430e-02 -1.8897636e-02\n",
            "  1.4623532e-02  1.0140524e-02  1.3515387e-02  1.5257311e-03\n",
            "  1.2701781e-02 -6.8107317e-03 -1.8928028e-03  1.1537147e-02\n",
            " -1.5043275e-02 -7.8722071e-03 -1.5023164e-02 -1.8600845e-03\n",
            "  1.9076237e-02 -1.4638334e-02 -4.6675373e-03 -3.8754821e-03\n",
            "  1.6154874e-02 -1.1861792e-02  9.0324880e-05 -9.5074680e-03\n",
            " -1.9207101e-02  1.0014586e-02 -1.7519170e-02 -8.7836506e-03\n",
            " -7.0199967e-05 -5.9236289e-04 -1.5322480e-02  1.9229487e-02\n",
            "  9.9641159e-03  1.8466286e-02]\n"
          ]
        }
      ]
    },
    {
      "cell_type": "code",
      "source": [
        "# Find similar words\n",
        "print(\"\\nWords similar to 'scientist':\\n\", model.wv.most_similar(\"scientist\"))"
      ],
      "metadata": {
        "colab": {
          "base_uri": "https://localhost:8080/"
        },
        "id": "ObawOx8og4Do",
        "outputId": "f3a0de99-0a29-4259-b106-9c9381c7c0c2"
      },
      "execution_count": 6,
      "outputs": [
        {
          "output_type": "stream",
          "name": "stdout",
          "text": [
            "\n",
            "Words similar to 'scientist':\n",
            " [('millions', 0.30658677220344543), ('science', 0.27055901288986206), ('president', 0.22442881762981415), ('india', 0.19776302576065063), ('he', 0.18339458107948303), ('a', 0.10232102125883102), ('inspired', 0.10154139250516891), ('with', 0.08190789073705673), ('technology', 0.03638641908764839), ('served', 0.029578380286693573)]\n"
          ]
        }
      ]
    },
    {
      "cell_type": "code",
      "source": [
        "model.wv.similarity(\"kalam\", \"scientist\")"
      ],
      "metadata": {
        "colab": {
          "base_uri": "https://localhost:8080/"
        },
        "id": "08udxZOuiuin",
        "outputId": "171c5791-cd32-473d-bdea-c252ed775640"
      },
      "execution_count": 7,
      "outputs": [
        {
          "output_type": "execute_result",
          "data": {
            "text/plain": [
              "0.012442171"
            ]
          },
          "metadata": {},
          "execution_count": 7
        }
      ]
    },
    {
      "cell_type": "code",
      "source": [
        "model.wv.most_similar(positive=[\"kalam\", \"scientist\"], negative=[])"
      ],
      "metadata": {
        "colab": {
          "base_uri": "https://localhost:8080/"
        },
        "id": "VQsIz4jPigFR",
        "outputId": "ee76b93e-b962-48eb-c402-cf492dc44922"
      },
      "execution_count": 9,
      "outputs": [
        {
          "output_type": "execute_result",
          "data": {
            "text/plain": [
              "[('millions', 0.3210158944129944),\n",
              " ('india', 0.2563653290271759),\n",
              " ('president', 0.227883443236351),\n",
              " ('science', 0.22515995800495148),\n",
              " ('with', 0.20553910732269287),\n",
              " ('and', 0.11598286777734756),\n",
              " ('served', 0.1135682463645935),\n",
              " ('inspired', 0.0999254658818245),\n",
              " ('he', 0.08689352124929428),\n",
              " ('the', 0.06947328895330429)]"
            ]
          },
          "metadata": {},
          "execution_count": 9
        }
      ]
    }
  ]
}