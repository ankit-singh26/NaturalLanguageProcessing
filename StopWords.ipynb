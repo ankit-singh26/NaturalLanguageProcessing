{
  "nbformat": 4,
  "nbformat_minor": 0,
  "metadata": {
    "colab": {
      "provenance": [],
      "authorship_tag": "ABX9TyNC0qi00lwujRgf0zQc3O+a",
      "include_colab_link": true
    },
    "kernelspec": {
      "name": "python3",
      "display_name": "Python 3"
    },
    "language_info": {
      "name": "python"
    }
  },
  "cells": [
    {
      "cell_type": "markdown",
      "metadata": {
        "id": "view-in-github",
        "colab_type": "text"
      },
      "source": [
        "<a href=\"https://colab.research.google.com/github/ankit-singh26/NaturalLanguageProcessing/blob/main/StopWords.ipynb\" target=\"_parent\"><img src=\"https://colab.research.google.com/assets/colab-badge.svg\" alt=\"Open In Colab\"/></a>"
      ]
    },
    {
      "cell_type": "code",
      "source": [
        "# Stopwords"
      ],
      "metadata": {
        "id": "q20uhpolJY2U"
      },
      "execution_count": 30,
      "outputs": []
    },
    {
      "cell_type": "code",
      "source": [
        "import nltk\n",
        "nltk.download('stopwords')\n",
        "nltk.download('wordnet')"
      ],
      "metadata": {
        "colab": {
          "base_uri": "https://localhost:8080/"
        },
        "id": "QsYoAkUVJdFY",
        "outputId": "e990e9e0-640c-4405-e19d-4b84e3ffb7db"
      },
      "execution_count": 31,
      "outputs": [
        {
          "output_type": "stream",
          "name": "stderr",
          "text": [
            "[nltk_data] Downloading package stopwords to /root/nltk_data...\n",
            "[nltk_data]   Package stopwords is already up-to-date!\n",
            "[nltk_data] Downloading package wordnet to /root/nltk_data...\n",
            "[nltk_data]   Package wordnet is already up-to-date!\n"
          ]
        },
        {
          "output_type": "execute_result",
          "data": {
            "text/plain": [
              "True"
            ]
          },
          "metadata": {},
          "execution_count": 31
        }
      ]
    },
    {
      "cell_type": "code",
      "source": [
        "from nltk.tokenize import PunktSentenceTokenizer, TreebankWordTokenizer\n",
        "from nltk.stem import WordNetLemmatizer\n",
        "from nltk.corpus import stopwords"
      ],
      "metadata": {
        "id": "EAzTs5AzJdOT"
      },
      "execution_count": 32,
      "outputs": []
    },
    {
      "cell_type": "code",
      "source": [
        "speech = '''\n",
        "Good morning everyone,\n",
        "\n",
        "Today, I want to talk about dreams — because dreams are the fuel that powers a nation's progress. Each of you carries within you a spark, a unique light that can illuminate the world. But to kindle that light, you must first dare to dream.\n",
        "\n",
        "Dream big, dream boldly, and never be afraid of failure. Failure is not the opposite of success; it is a vital part of it. Every setback is a lesson, every challenge an opportunity to grow stronger.\n",
        "\n",
        "Remember, knowledge and hard work are your greatest allies. Excellence does not come by accident; it is a process you must commit to daily. Be passionate about learning, for knowledge empowers you to innovate, to lead, and to inspire.\n",
        "\n",
        "Our nation’s future depends on the youth — on your ability to think critically, to act ethically, and to serve selflessly. Let us sacrifice our comforts today so that generations to come can enjoy a better tomorrow.\n",
        "\n",
        "Never forget the power of your thoughts. Your thinking shapes your destiny. Believe in yourself, keep your vision clear, and move forward with determination.\n",
        "\n",
        "As I always say, if you want to shine like the sun, first burn like the sun. Work hard, stay dedicated, and one day you will light up the world with your brilliance.\n",
        "\n",
        "Thank you.\n",
        "'''"
      ],
      "metadata": {
        "id": "5Ot2K8jjJdQs"
      },
      "execution_count": 33,
      "outputs": []
    },
    {
      "cell_type": "code",
      "source": [
        "sent_tokenize = PunktSentenceTokenizer()\n",
        "word_tokenize = TreebankWordTokenizer()\n",
        "sentences = sent_tokenize.tokenize(speech)\n",
        "lemmatizer = WordNetLemmatizer()"
      ],
      "metadata": {
        "id": "fal7gVmvJdTA"
      },
      "execution_count": 34,
      "outputs": []
    },
    {
      "cell_type": "code",
      "source": [
        "for i in range(len(sentences)):\n",
        "    words = word_tokenize.tokenize(sentences[i])\n",
        "    filtered_words = [lemmatizer.lemmatize(word.lower(), pos='v')\n",
        "                      for word in words\n",
        "                      if word.lower() not in set(stopwords.words('english'))]\n",
        "    sentences[i] = ' '.join(filtered_words)"
      ],
      "metadata": {
        "id": "RK5DdHgXJdVb"
      },
      "execution_count": 35,
      "outputs": []
    },
    {
      "cell_type": "code",
      "source": [
        "for sent in sentences:\n",
        "  print(sent)"
      ],
      "metadata": {
        "colab": {
          "base_uri": "https://localhost:8080/"
        },
        "id": "QnizAyRUJdYq",
        "outputId": "667aaaef-ea76-4136-b7b2-aab1deceeaaa"
      },
      "execution_count": 36,
      "outputs": [
        {
          "output_type": "stream",
          "name": "stdout",
          "text": [
            "good morning everyone , today , want talk dream — dream fuel power nation 's progress .\n",
            "carry within spark , unique light illuminate world .\n",
            "kindle light , must first dare dream .\n",
            "dream big , dream boldly , never afraid failure .\n",
            "failure opposite success ; vital part .\n",
            "every setback lesson , every challenge opportunity grow stronger .\n",
            "remember , knowledge hard work greatest ally .\n",
            "excellence come accident ; process must commit daily .\n",
            "passionate learn , knowledge empower innovate , lead , inspire .\n",
            "nation’s future depend youth — ability think critically , act ethically , serve selflessly .\n",
            "let us sacrifice comfort today generations come enjoy better tomorrow .\n",
            "never forget power thoughts .\n",
            "think shape destiny .\n",
            "believe , keep vision clear , move forward determination .\n",
            "always say , want shine like sun , first burn like sun .\n",
            "work hard , stay dedicate , one day light world brilliance .\n",
            "thank .\n"
          ]
        }
      ]
    }
  ]
}